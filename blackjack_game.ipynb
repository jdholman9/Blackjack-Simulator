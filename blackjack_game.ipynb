{
 "cells": [
  {
   "cell_type": "code",
   "execution_count": null,
   "metadata": {},
   "outputs": [],
   "source": [
    "# Blackjack game\n",
    "\n",
    "# class hand\n",
    "# Attributes\n",
    "#  hand total\n",
    "#  bet amount\n",
    "#  total money\n",
    "# Method\n",
    "#  hit\n",
    "#  split\n",
    "#  double down\n",
    "\n",
    "# Dealer rules\n",
    "\n",
    "# class user?\n",
    "# Attributes\n",
    "#  Bank roll\n",
    "#  bet amount\n",
    "\n",
    "\n",
    "# Small change"
   ]
  }
 ],
 "metadata": {
  "language_info": {
   "name": "python"
  }
 },
 "nbformat": 4,
 "nbformat_minor": 2
}
